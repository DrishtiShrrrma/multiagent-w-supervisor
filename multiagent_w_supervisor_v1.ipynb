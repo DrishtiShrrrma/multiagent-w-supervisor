{
  "nbformat": 4,
  "nbformat_minor": 0,
  "metadata": {
    "colab": {
      "provenance": []
    },
    "kernelspec": {
      "name": "python3",
      "display_name": "Python 3"
    },
    "language_info": {
      "name": "python"
    }
  },
  "cells": [
    {
      "cell_type": "code",
      "source": [
        "!pip install protobuf==3.20.3\n",
        "!pip install IPython python-dotenv langchain langchain-openai langchain-community langchain-core langchain-experimental huggingface-hub chromadb\n"
      ],
      "metadata": {
        "id": "mXjP72V1K8Rn"
      },
      "execution_count": null,
      "outputs": []
    },
    {
      "cell_type": "code",
      "source": [
        "from google.colab import userdata\n",
        "#import os\n",
        "#os.environ['OPENAI_API_KEY'] = userdata.get('OPENAI_API_KEY')\n",
        "os.environ['GROQ_API_KEY'] = userdata.get('GROQ_API_KEY')"
      ],
      "metadata": {
        "id": "KDjT-zH8BDY7"
      },
      "execution_count": null,
      "outputs": []
    },
    {
      "cell_type": "code",
      "source": [
        "llm = ChatOpenAI(model=\"gpt-4-1106-preview\")"
      ],
      "metadata": {
        "id": "Jq48jM49LOOm"
      },
      "execution_count": null,
      "outputs": []
    },
    {
      "cell_type": "markdown",
      "metadata": {
        "id": "pW5Yh8MgmCFN"
      },
      "source": [
        "### Create Agent function"
      ]
    },
    {
      "cell_type": "code",
      "execution_count": null,
      "metadata": {
        "id": "Q8b-ehLcmCFN"
      },
      "outputs": [],
      "source": [
        "from langchain.agents import AgentExecutor, create_openai_tools_agent\n",
        "from langchain_core.messages import BaseMessage, HumanMessage\n",
        "from langchain_openai import ChatOpenAI\n",
        "\n",
        "\n",
        "def create_agent(llm: ChatOpenAI, tools: list, system_prompt: str):\n",
        "    # Each worker node will be given a name and some tools.\n",
        "    prompt = ChatPromptTemplate.from_messages(\n",
        "        [\n",
        "            (\n",
        "                \"system\",\n",
        "                system_prompt,\n",
        "            ),\n",
        "            MessagesPlaceholder(variable_name=\"messages\"),\n",
        "            MessagesPlaceholder(variable_name=\"agent_scratchpad\"),\n",
        "        ]\n",
        "    )\n",
        "    agent = create_openai_tools_agent(llm, tools, prompt)\n",
        "    executor = AgentExecutor(agent=agent, tools=tools)\n",
        "    return executor\n",
        "\n"
      ]
    },
    {
      "cell_type": "markdown",
      "metadata": {
        "id": "f-x_8NiumCFO"
      },
      "source": [
        "### Creation of Tools\n",
        "\n",
        "- Tavily Search tool\n",
        "- PythonREPLTool"
      ]
    },
    {
      "cell_type": "code",
      "execution_count": null,
      "metadata": {
        "id": "jFuVwf9CmCFO"
      },
      "outputs": [],
      "source": [
        "from typing import Annotated, List, Tuple, Union\n",
        "\n",
        "from langchain_community.tools.tavily_search import TavilySearchResults\n",
        "from langchain_core.tools import tool\n",
        "from langchain_experimental.tools import PythonREPLTool\n",
        "\n",
        "tavily_tool = TavilySearchResults(max_results=5)\n",
        "\n",
        "python_repl_tool = PythonREPLTool()"
      ]
    },
    {
      "cell_type": "code",
      "source": [
        "from langchain_community.tools.pandas_data_tool import PandasDataTool\n",
        "from langchain_community.tools.google_translate_tool import GoogleTranslateTool\n",
        "\n",
        "# New tool instances\n",
        "data_analysis_tool = PandasDataTool()\n",
        "translator_tool = GoogleTranslateTool(target_language=\"en\")"
      ],
      "metadata": {
        "id": "f1DPTfzCkHQj"
      },
      "execution_count": null,
      "outputs": []
    },
    {
      "cell_type": "markdown",
      "metadata": {
        "id": "lCEg7HO-mCFO"
      },
      "source": [
        "# **RAG Setup with Vector DB**"
      ]
    },
    {
      "cell_type": "code",
      "execution_count": null,
      "metadata": {
        "id": "hJWJQ3pImCFO",
        "outputId": "189dd83f-e8ff-4e1b-e7be-5256331642bd"
      },
      "outputs": [
        {
          "name": "stderr",
          "output_type": "stream",
          "text": [
            "/Users/aritra.sen/Aritra/coding/my_llm_app/.venv/lib/python3.10/site-packages/tqdm/auto.py:21: TqdmWarning: IProgress not found. Please update jupyter and ipywidgets. See https://ipywidgets.readthedocs.io/en/stable/user_install.html\n",
            "  from .autonotebook import tqdm as notebook_tqdm\n",
            "/Users/aritra.sen/Aritra/coding/my_llm_app/.venv/lib/python3.10/site-packages/transformers/utils/generic.py:311: UserWarning: torch.utils._pytree._register_pytree_node is deprecated. Please use torch.utils._pytree.register_pytree_node instead.\n",
            "  torch.utils._pytree._register_pytree_node(\n",
            "/Users/aritra.sen/Aritra/coding/my_llm_app/.venv/lib/python3.10/site-packages/transformers/utils/generic.py:311: UserWarning: torch.utils._pytree._register_pytree_node is deprecated. Please use torch.utils._pytree.register_pytree_node instead.\n",
            "  torch.utils._pytree._register_pytree_node(\n"
          ]
        }
      ],
      "source": [
        "from langchain_community.document_loaders import TextLoader, DirectoryLoader\n",
        "from langchain.text_splitter import RecursiveCharacterTextSplitter\n",
        "from langchain_community.vectorstores import Chroma\n",
        "\n",
        "### Reading the txt files from source directory\n",
        "\n",
        "loader = DirectoryLoader('./source', glob=\"./*.txt\", loader_cls=TextLoader)\n",
        "docs = loader.load()\n",
        "\n",
        "### Creating Chunks using RecursiveCharacterTextSplitter\n",
        "\n",
        "text_splitter = RecursiveCharacterTextSplitter(\n",
        "    chunk_size=100,\n",
        "    chunk_overlap=10,\n",
        "    length_function=len\n",
        ")\n",
        "new_docs = text_splitter.split_documents(documents=docs)\n",
        "doc_strings = [doc.page_content for doc in new_docs]\n",
        "\n",
        "###  BGE Embddings\n",
        "\n",
        "from langchain.embeddings import HuggingFaceBgeEmbeddings\n",
        "\n",
        "model_name = \"BAAI/bge-base-en-v1.5\"\n",
        "model_kwargs = {'device': 'cpu'}\n",
        "encode_kwargs = {'normalize_embeddings': True} # set True to compute cosine similarity\n",
        "embeddings = HuggingFaceBgeEmbeddings(\n",
        "    model_name=model_name,\n",
        "    model_kwargs=model_kwargs,\n",
        "    encode_kwargs=encode_kwargs,\n",
        ")\n",
        "\n",
        "### Creating Retriever using Vector DB\n",
        "\n",
        "db = Chroma.from_documents(new_docs, embeddings)\n",
        "retriever = db.as_retriever(search_kwargs={\"k\": 4})"
      ]
    },
    {
      "cell_type": "markdown",
      "source": [
        "# **RAG Tool Definition**\n",
        "\n"
      ],
      "metadata": {
        "id": "sQfYeWJakx4x"
      }
    },
    {
      "cell_type": "code",
      "execution_count": null,
      "metadata": {
        "id": "X7gvKCQDmCFO"
      },
      "outputs": [],
      "source": [
        "from langchain_core.output_parsers import StrOutputParser\n",
        "from langchain_core.runnables import RunnablePassthrough"
      ]
    },
    {
      "cell_type": "code",
      "execution_count": null,
      "metadata": {
        "id": "85NmNamamCFP"
      },
      "outputs": [],
      "source": [
        "@tool\n",
        "def RAG(state):\n",
        "\n",
        "    \"\"\"Use this to execute RAG. If the question is related to Japan or Sports, using this tool retrieve the results.\"\"\"\n",
        "\n",
        "    print('-> Calling RAG ->')\n",
        "    question = state\n",
        "    print('Question:',question)\n",
        "\n",
        "    template = \"\"\"Answer the question based only on the following context:\n",
        "    {context}\n",
        "\n",
        "    Question: {question}\n",
        "    \"\"\"\n",
        "    prompt = ChatPromptTemplate.from_template(template)\n",
        "\n",
        "    retrieval_chain = (\n",
        "        {\"context\": retriever, \"question\": RunnablePassthrough()}\n",
        "        | prompt\n",
        "        | llm\n",
        "        | StrOutputParser()\n",
        "        )\n",
        "    result = retrieval_chain.invoke(question)\n",
        "    return result"
      ]
    },
    {
      "cell_type": "markdown",
      "metadata": {
        "id": "GwFWDeshmCFP"
      },
      "source": [
        "### Agent node\n",
        " - takes state , agent and name as input\n",
        " - return mesage as HumanMessage with name"
      ]
    },
    {
      "cell_type": "code",
      "execution_count": null,
      "metadata": {
        "id": "WnWU3OJkmCFP"
      },
      "outputs": [],
      "source": [
        "def agent_node(state, agent, name):\n",
        "    result = agent.invoke(state)\n",
        "    return {\"messages\": [HumanMessage(content=result[\"output\"], name=name)]}"
      ]
    },
    {
      "cell_type": "markdown",
      "metadata": {
        "id": "SIBdZaDjmCFP"
      },
      "source": [
        "### Supervisor Chain creation\n",
        "\n",
        "Our team supervisor is an LLM node. It just picks the next agent to process and decides when the work is completed\n",
        "\n",
        "- Has access and information about it's memebers.\n",
        "- members = [\"RAG\" , \"Researcher\", \"Coder\", \"DataAnalyst\", \"Translator\"]\n",
        "- options = [\"FINISH\"] + members\n",
        "- \"Given the conversation above, who should act next?\"\n",
        "   \" Or should we FINISH? Select one of: {options}\"\n",
        "\n",
        "- Router -> function_def"
      ]
    },
    {
      "cell_type": "code",
      "source": [
        "from langchain.output_parsers.openai_functions import JsonOutputFunctionsParser\n",
        "from langchain_core.prompts import ChatPromptTemplate, MessagesPlaceholder\n",
        "\n",
        "members = [\"RAG\" , \"Researcher\", \"Coder\", \"DataAnalyst\", \"Translator\"]\n",
        "system_prompt = (\n",
        "    \"You are a supervisor tasked with managing a conversation between the\"\n",
        "    \" following workers:  {members}. Given the following user request,\"\n",
        "    \" respond with the worker to act next. Use RAG tool when questions \"\n",
        "     \"are related to Japan or of Sports category. Each worker will perform a\"\n",
        "    \" task and respond with their results and status. When finished,\"\n",
        "    \" respond with FINISH.\"\n",
        ")\n",
        "\n",
        "options = [\"FINISH\"] + members\n",
        "# Using openai function calling can make output parsing easier for us\n",
        "function_def = {\n",
        "    \"name\": \"route\",\n",
        "    \"description\": \"Select the next role.\",\n",
        "    \"parameters\": {\n",
        "        \"title\": \"routeSchema\",\n",
        "        \"type\": \"object\",\n",
        "        \"properties\": {\n",
        "            \"next\": {\n",
        "                \"title\": \"Next\",\n",
        "                \"anyOf\": [\n",
        "                    {\"enum\": options},\n",
        "                ],\n",
        "            }\n",
        "        },\n",
        "        \"required\": [\"next\"],\n",
        "    },\n",
        "}\n",
        "prompt = ChatPromptTemplate.from_messages(\n",
        "    [\n",
        "        (\"system\", system_prompt),\n",
        "        MessagesPlaceholder(variable_name=\"messages\"),\n",
        "        (\n",
        "            \"system\",\n",
        "            \"Given the conversation above, who should act next?\"\n",
        "            \" Or should we FINISH? Select one of: {options}\",\n",
        "        ),\n",
        "    ]\n",
        ").partial(options=str(options), members=\", \".join(members))\n",
        "\n",
        "supervisor_chain = (\n",
        "    prompt\n",
        "    | llm.bind_functions(functions=[function_def], function_call=\"route\")\n",
        "    | JsonOutputFunctionsParser()\n",
        ")"
      ],
      "metadata": {
        "id": "wBhfHxhN-BQY"
      },
      "execution_count": null,
      "outputs": []
    },
    {
      "cell_type": "markdown",
      "source": [
        "\n",
        "# Creation of workflow with below nodes\n",
        "\n",
        "Agent ->> Node (functools.partial)\n",
        "- Research Node\n",
        "- Code Node\n",
        "- RAG Node\n",
        "- Data Analysis Node\n",
        "- Translator Node"
      ],
      "metadata": {
        "id": "9jVGLTpP-yks"
      }
    },
    {
      "cell_type": "code",
      "source": [
        "import operator\n",
        "from typing import Annotated, Sequence, TypedDict\n",
        "import functools\n",
        "\n",
        "from langchain_core.prompts import ChatPromptTemplate, MessagesPlaceholder\n",
        "from langgraph.graph import StateGraph, END\n",
        "\n",
        "# The agent state is the input to each node in the graph\n",
        "class AgentState(TypedDict):\n",
        "    # The annotation tells the graph that new messages will always\n",
        "    # be added to the current states\n",
        "    messages: Annotated[Sequence[BaseMessage], operator.add]\n",
        "    # The 'next' field indicates where to route to next\n",
        "    next: str\n",
        "\n",
        "research_agent = create_agent(llm, [tavily_tool], \"You are a web researcher.\")\n",
        "research_node = functools.partial(agent_node, agent=research_agent, name=\"Researcher\")\n",
        "\n",
        "# NOTE: THIS PERFORMS ARBITRARY CODE EXECUTION. PROCEED WITH CAUTION\n",
        "code_agent = create_agent(\n",
        "    llm,\n",
        "    [python_repl_tool],\n",
        "    \"You may generate safe Python code to analyze data and generate charts using matplotlib.\",\n",
        ")\n",
        "code_node = functools.partial(agent_node, agent=code_agent, name=\"Coder\")\n",
        "\n",
        "RAG_agent = create_agent(\n",
        "    llm,\n",
        "    [RAG],\n",
        "    \"Use this tool when questions are related to Japan or of Sports category.\",\n",
        ")\n",
        "rag_node = functools.partial(agent_node, agent=RAG_agent, name=\"RAG\")\n",
        "\n",
        "data_analysis_agent = create_agent(\n",
        "    llm, [data_analysis_tool],\n",
        "    \"Perform data analysis tasks on structured data, using Pandas.\"\n",
        ")\n",
        "data_analysis_node = functools.partial(agent_node, agent=data_analysis_agent, name=\"DataAnalyst\")\n",
        "\n",
        "translation_agent = create_agent(\n",
        "    llm, [translator_tool],\n",
        "    \"Translate content as needed to assist with multilingual queries.\"\n",
        ")\n",
        "translation_node = functools.partial(agent_node, agent=translation_agent, name=\"Translator\")\n",
        "\n",
        "# Create workflow and add nodes\n",
        "workflow = StateGraph(AgentState)\n",
        "workflow.add_node(\"Researcher\", research_node)\n",
        "workflow.add_node(\"Coder\", code_node)\n",
        "workflow.add_node(\"RAG\", rag_node)\n",
        "workflow.add_node(\"DataAnalyst\", data_analysis_node)\n",
        "workflow.add_node(\"Translator\", translation_node)\n",
        "workflow.add_node(\"supervisor\", supervisor_chain)\n"
      ],
      "metadata": {
        "id": "bjjrcN9O-3mc"
      },
      "execution_count": null,
      "outputs": []
    },
    {
      "cell_type": "markdown",
      "metadata": {
        "id": "BUIbXnrnmCFQ"
      },
      "source": [
        "### Creation of edges"
      ]
    },
    {
      "cell_type": "code",
      "execution_count": null,
      "metadata": {
        "id": "i9hpqJCBmCFQ"
      },
      "outputs": [],
      "source": [
        "for member in members:\n",
        "    # We want our workers to ALWAYS \"report back\" to the supervisor when done\n",
        "    workflow.add_edge(member, \"supervisor\")\n",
        "# The supervisor populates the \"next\" field in the graph state\n",
        "# which routes to a node or finishes\n",
        "conditional_map = {k: k for k in members}\n",
        "conditional_map[\"FINISH\"] = END\n",
        "workflow.add_conditional_edges(\"supervisor\", lambda x: x[\"next\"], conditional_map)\n",
        "# Finally, add entrypoint\n",
        "workflow.set_entry_point(\"supervisor\")\n",
        "\n",
        "graph = workflow.compile()"
      ]
    },
    {
      "cell_type": "code",
      "execution_count": null,
      "metadata": {
        "id": "6oysLJzumCFQ",
        "outputId": "bf65ba0a-cdbd-4af1-e6d1-27d20d8b8d32"
      },
      "outputs": [
        {
          "name": "stderr",
          "output_type": "stream",
          "text": [
            "huggingface/tokenizers: The current process just got forked, after parallelism has already been used. Disabling parallelism to avoid deadlocks...\n",
            "To disable this warning, you can either:\n",
            "\t- Avoid using `tokenizers` before the fork if possible\n",
            "\t- Explicitly set the environment variable TOKENIZERS_PARALLELISM=(true | false)\n"
          ]
        },
        {
          "name": "stdout",
          "output_type": "stream",
          "text": [
            "{'supervisor': {'next': 'Coder'}}\n",
            "----\n"
          ]
        },
        {
          "name": "stderr",
          "output_type": "stream",
          "text": [
            "Python REPL can execute arbitrary code. Use with caution.\n"
          ]
        },
        {
          "name": "stdout",
          "output_type": "stream",
          "text": [
            "{'Coder': {'messages': [HumanMessage(content='The code has been executed, and the message \"Hello, World!\" has been printed to the terminal.', name='Coder')]}}\n",
            "----\n",
            "{'supervisor': {'next': 'FINISH'}}\n",
            "----\n"
          ]
        }
      ],
      "source": [
        "for s in graph.stream(\n",
        "    {\n",
        "        \"messages\": [\n",
        "            HumanMessage(content=\"Code hello world and print it to the terminal\")\n",
        "        ]\n",
        "    }\n",
        "):\n",
        "    if \"__end__\" not in s:\n",
        "        print(s)\n",
        "        print(\"----\")"
      ]
    },
    {
      "cell_type": "code",
      "execution_count": null,
      "metadata": {
        "id": "hded3q-TmCFQ",
        "outputId": "8f5189d7-8dc8-4218-8f06-b1547aae757c"
      },
      "outputs": [
        {
          "name": "stdout",
          "output_type": "stream",
          "text": [
            "{'supervisor': {'next': 'RAG'}}\n",
            "----\n",
            "-> Calling RAG ->\n",
            "Question: James McIlroy\n",
            "{'RAG': {'messages': [HumanMessage(content='James McIlroy is an 800 meters runner from Northern Ireland who is aiming to win his first major title at an upcoming weekend event. He believes that his career has been transformed, and he is also setting his sights on a title in Madrid. McIlroy, who is 28 years old, has had times in his career where his performance might not have reached the heights he expected, but he remains focused on achieving success in his sport.', name='RAG')]}}\n",
            "----\n",
            "{'supervisor': {'next': 'FINISH'}}\n",
            "----\n"
          ]
        }
      ],
      "source": [
        "for s in graph.stream(\n",
        "    {\n",
        "        \"messages\": [\n",
        "            HumanMessage(content=\"What James McIlroy is aiming in sports?\")\n",
        "        ]\n",
        "    }\n",
        "):\n",
        "    if \"__end__\" not in s:\n",
        "        print(s)\n",
        "        print(\"----\")"
      ]
    },
    {
      "cell_type": "code",
      "execution_count": null,
      "metadata": {
        "id": "OWCbWxYnmCFQ",
        "outputId": "8b6c70ca-c755-4b1b-a058-6a50fd4d9bc8"
      },
      "outputs": [
        {
          "name": "stdout",
          "output_type": "stream",
          "text": [
            "{'supervisor': {'next': 'Researcher'}}\n",
            "----\n",
            "{'Researcher': {'messages': [HumanMessage(content=\"Based on the search results, we have some information regarding India's GDP for the years 2019 and 2020:\\n\\n- India's GDP for 2019 was $2,835.61 billion.\\n- India's GDP for 2020 was $2,671.60 billion, which was a 5.78% decline from 2019.\\n\\nHowever, the search results did not provide specific GDP figures for the years 2018, 2021, and 2022. To draw a line graph of India's GDP over the past 5 years, we need the GDP figures for all five years. Since the search results are incomplete, I cannot create a line graph with the data provided.\\n\\nTo proceed, we would need to either refine the search to obtain the missing GDP data for 2018, 2021, and 2022 or directly obtain this data from a reliable statistical database or economic report. Once we have the complete data set, we can then create the line graph. Would you like to refine the search or use another source to obtain the missing GDP figures?\", name='Researcher')]}}\n",
            "----\n",
            "{'supervisor': {'next': 'Researcher'}}\n",
            "----\n",
            "{'Researcher': {'messages': [HumanMessage(content=\"Based on the search results, we have gathered the following GDP figures for India:\\n\\n- 2018: The exact figure is not clearly stated in the search results, but the GDP for 2019 was $2,835.61 billion, with a 4.91% increase from 2018. This allows us to estimate the 2018 GDP.\\n- 2019: $2,835.61 billion\\n- 2020: $2,671.60 billion\\n- 2021: $3,150.31 billion\\n- 2022: $3,416.65 billion\\n\\nNow, let's calculate the estimated GDP for 2018 using the 2019 figure and the growth rate provided:\\n\\n2019 GDP / (1 + Growth Rate) = 2018 GDP\\n$2,835.61 billion / (1 + 0.0491) ≈ $2,835.61 billion / 1.0491 ≈ $2702.20 billion\\n\\nTherefore, the estimated GDP for 2018 is approximately $2702.20 billion.\\n\\nNow we have all the figures to plot the line graph representing India's GDP over the past 5 years:\\n\\n- 2018: $2702.20 billion\\n- 2019: $2,835.61 billion\\n- 2020: $2,671.60 billion\\n- 2021: $3,150.31 billion\\n- 2022: $3,416.65 billion\\n\\nHowever, as a text-based AI, I am unable to create visual graphics. You would need to use these figures in a data visualization tool like a spreadsheet program to create the line graph.\", name='Researcher')]}}\n",
            "----\n",
            "{'supervisor': {'next': 'Coder'}}\n",
            "----\n"
          ]
        },
        {
          "data": {
            "image/png": "[encoded data removed]",
            "text/plain": [
              "<Figure size 1000x500 with 1 Axes>"
            ]
          },
          "metadata": {},
          "output_type": "display_data"
        },
        {
          "name": "stdout",
          "output_type": "stream",
          "text": [
            "{'Coder': {'messages': [HumanMessage(content=\"The line graph of India's GDP over the past 5 years has been generated using matplotlib, but as a text-based AI, I'm unable to display images directly. The code for plotting the graph is complete, and running it in a Python environment will display the graph. If you run this code in your local environment, you will see the graph showing the GDP trend for India from 2018 to 2022.\\n\\nPlease let me know if there is anything else I can assist you with!\", name='Coder')]}}\n",
            "----\n",
            "{'supervisor': {'next': 'FINISH'}}\n",
            "----\n"
          ]
        }
      ],
      "source": [
        "for s in graph.stream(\n",
        "    {\n",
        "        \"messages\": [\n",
        "            HumanMessage(content=\"Fetch the India's GDP over the past 5 years,\"\n",
        "                \" then draw a line graph of it.\"\n",
        "                \" Once you code it up, finish.\")\n",
        "        ]\n",
        "    }\n",
        "):\n",
        "    if \"__end__\" not in s:\n",
        "        print(s)\n",
        "        print(\"----\")"
      ]
    },
    {
      "cell_type": "markdown",
      "metadata": {
        "id": "Acg7v-IRmCFQ"
      },
      "source": [
        "Supervisor --> RAG -> Data ->> Python --> Run --> Visualization"
      ]
    },
    {
      "cell_type": "code",
      "execution_count": null,
      "metadata": {
        "id": "X87CgIP-mCFQ",
        "outputId": "43255a47-e206-4c10-f7ba-1770a614e322"
      },
      "outputs": [
        {
          "name": "stdout",
          "output_type": "stream",
          "text": [
            "{'supervisor': {'next': 'RAG'}}\n",
            "----\n",
            "-> Calling RAG ->\n",
            "Question: Japan's GDP over the past 4 years\n",
            "{'RAG': {'messages': [HumanMessage(content=\"I have fetched the GDP data for Japan over the past 4 years:\\n\\n- 2019: $5,117.99 billion\\n- 2020: $5,055.59 billion\\n- 2021: $5,034.62 billion\\n- 2022: $4,256.41 billion\\n\\nI will now proceed to draw a line graph of this data. Once I've coded it, I will finish the task.\", name='RAG')]}}\n",
            "----\n",
            "{'supervisor': {'next': 'Coder'}}\n",
            "----\n"
          ]
        },
        {
          "data": {
            "image/png": "[encoded data removed]",
            "text/plain": [
              "<Figure size 1000x500 with 1 Axes>"
            ]
          },
          "metadata": {},
          "output_type": "display_data"
        },
        {
          "name": "stdout",
          "output_type": "stream",
          "text": [
            "{'Coder': {'messages': [HumanMessage(content=\"I have generated the code to draw a line graph for Japan's GDP over the past 4 years. However, since I cannot display images directly, I have finished the task as requested. If you want to execute the code on your local machine, here it is:\\n\\n```python\\nimport matplotlib.pyplot as plt\\n\\n# Japan's GDP data for the past 4 years\\nyears = ['2019', '2020', '2021', '2022']\\ngdp_values = [5117.99, 5055.59, 5034.62, 4256.41]  # in billions\\n\\n# Plotting the line graph\\nplt.figure(figsize=(10, 5))\\nplt.plot(years, gdp_values, marker='o')\\nplt.title('Japan GDP Over the Past 4 Years')\\nplt.xlabel('Year')\\nplt.ylabel('GDP in Billion USD')\\nplt.grid(True)\\nplt.show()\\n```\\n\\nBy running this code in a Python environment with matplotlib installed, you will be able to see the line graph visualizing Japan's GDP from 2019 to 2022.\", name='Coder')]}}\n",
            "----\n",
            "{'supervisor': {'next': 'FINISH'}}\n",
            "----\n"
          ]
        }
      ],
      "source": [
        "for s in graph.stream(\n",
        "    {\n",
        "        \"messages\": [\n",
        "            HumanMessage(content=\"Fetch the Japans's GDP over the past 4 years from RAG,\"\n",
        "                \" then draw a line graph of it.\"\n",
        "                \" Once you code it up, finish.\")\n",
        "        ]\n",
        "    }\n",
        "):\n",
        "    if \"__end__\" not in s:\n",
        "        print(s)\n",
        "        print(\"----\")"
      ]
    },
    {
      "cell_type": "code",
      "source": [
        "for s in graph.stream(\n",
        "    {\n",
        "        \"messages\": [\n",
        "            HumanMessage(content=\"Analyze the GDP data for trends.\")\n",
        "        ]\n",
        "    }\n",
        "):\n",
        "    if \"__end__\" not in s:\n",
        "        print(s)\n",
        "        print(\"----\")"
      ],
      "metadata": {
        "id": "Wc1v0Co1KEsw"
      },
      "execution_count": null,
      "outputs": []
    },
    {
      "cell_type": "code",
      "source": [
        "for s in graph.stream(\n",
        "    {\n",
        "        \"messages\": [\n",
        "            HumanMessage(content=\"Translate 'Bonjour tout le monde' to English.\")\n",
        "        ]\n",
        "    }\n",
        "):\n",
        "    if \"__end__\" not in s:\n",
        "        print(s)\n",
        "        print(\"----\")"
      ],
      "metadata": {
        "id": "57q_46fCKFYZ"
      },
      "execution_count": null,
      "outputs": []
    }
  ]
}